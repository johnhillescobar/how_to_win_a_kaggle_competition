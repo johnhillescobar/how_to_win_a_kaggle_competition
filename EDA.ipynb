{
 "cells": [
  {
   "cell_type": "code",
   "execution_count": 1,
   "metadata": {},
   "outputs": [],
   "source": [
    "import pandas as pd\n",
    "import numpy as np\n",
    "import os\n",
    "import matplotlib.pyplot as plt\n",
    "%matplotlib inline "
   ]
  },
  {
   "cell_type": "code",
   "execution_count": 2,
   "metadata": {},
   "outputs": [],
   "source": [
    "DATA_FOLDER = './competitive-data-science-predict-future-sales/'\n",
    "\n",
    "transactions    = pd.read_csv(os.path.join(DATA_FOLDER, 'sales_train.csv'), parse_dates=['date'])\n",
    "items           = pd.read_csv(os.path.join(DATA_FOLDER, 'items.csv'))\n",
    "item_categories = pd.read_csv(os.path.join(DATA_FOLDER, 'item_categories.csv'))\n",
    "shops           = pd.read_csv(os.path.join(DATA_FOLDER, 'shops.csv'))\n",
    "test = pd.read_csv(DATA_FOLDER + 'test.csv')\n",
    "sample_sub = pd.read_csv(DATA_FOLDER + 'sample_submission.csv')"
   ]
  },
  {
   "cell_type": "code",
   "execution_count": 46,
   "metadata": {},
   "outputs": [
    {
     "output_type": "execute_result",
     "data": {
      "text/plain": "        date  date_block_num  shop_id  item_id  item_price  item_cnt_day\n0 2013-02-01               0       59    22154      999.00           1.0\n1 2013-03-01               0       25     2552      899.00           1.0\n2 2013-05-01               0       25     2552      899.00          -1.0\n3 2013-06-01               0       25     2554     1709.05           1.0\n4 2013-01-15               0       25     2555     1099.00           1.0",
      "text/html": "<div>\n<style scoped>\n    .dataframe tbody tr th:only-of-type {\n        vertical-align: middle;\n    }\n\n    .dataframe tbody tr th {\n        vertical-align: top;\n    }\n\n    .dataframe thead th {\n        text-align: right;\n    }\n</style>\n<table border=\"1\" class=\"dataframe\">\n  <thead>\n    <tr style=\"text-align: right;\">\n      <th></th>\n      <th>date</th>\n      <th>date_block_num</th>\n      <th>shop_id</th>\n      <th>item_id</th>\n      <th>item_price</th>\n      <th>item_cnt_day</th>\n    </tr>\n  </thead>\n  <tbody>\n    <tr>\n      <th>0</th>\n      <td>2013-02-01</td>\n      <td>0</td>\n      <td>59</td>\n      <td>22154</td>\n      <td>999.00</td>\n      <td>1.0</td>\n    </tr>\n    <tr>\n      <th>1</th>\n      <td>2013-03-01</td>\n      <td>0</td>\n      <td>25</td>\n      <td>2552</td>\n      <td>899.00</td>\n      <td>1.0</td>\n    </tr>\n    <tr>\n      <th>2</th>\n      <td>2013-05-01</td>\n      <td>0</td>\n      <td>25</td>\n      <td>2552</td>\n      <td>899.00</td>\n      <td>-1.0</td>\n    </tr>\n    <tr>\n      <th>3</th>\n      <td>2013-06-01</td>\n      <td>0</td>\n      <td>25</td>\n      <td>2554</td>\n      <td>1709.05</td>\n      <td>1.0</td>\n    </tr>\n    <tr>\n      <th>4</th>\n      <td>2013-01-15</td>\n      <td>0</td>\n      <td>25</td>\n      <td>2555</td>\n      <td>1099.00</td>\n      <td>1.0</td>\n    </tr>\n  </tbody>\n</table>\n</div>"
     },
     "metadata": {},
     "execution_count": 46
    }
   ],
   "source": [
    "transactions.head()"
   ]
  },
  {
   "cell_type": "code",
   "execution_count": 47,
   "metadata": {},
   "outputs": [
    {
     "output_type": "execute_result",
     "data": {
      "text/plain": "                                           item_name  item_id  \\\n0          ! ВО ВЛАСТИ НАВАЖДЕНИЯ (ПЛАСТ.)         D        0   \n1  !ABBYY FineReader 12 Professional Edition Full...        1   \n2      ***В ЛУЧАХ СЛАВЫ   (UNV)                    D        2   \n3    ***ГОЛУБАЯ ВОЛНА  (Univ)                      D        3   \n4        ***КОРОБКА (СТЕКЛО)                       D        4   \n\n   item_category_id  \n0                40  \n1                76  \n2                40  \n3                40  \n4                40  ",
      "text/html": "<div>\n<style scoped>\n    .dataframe tbody tr th:only-of-type {\n        vertical-align: middle;\n    }\n\n    .dataframe tbody tr th {\n        vertical-align: top;\n    }\n\n    .dataframe thead th {\n        text-align: right;\n    }\n</style>\n<table border=\"1\" class=\"dataframe\">\n  <thead>\n    <tr style=\"text-align: right;\">\n      <th></th>\n      <th>item_name</th>\n      <th>item_id</th>\n      <th>item_category_id</th>\n    </tr>\n  </thead>\n  <tbody>\n    <tr>\n      <th>0</th>\n      <td>! ВО ВЛАСТИ НАВАЖДЕНИЯ (ПЛАСТ.)         D</td>\n      <td>0</td>\n      <td>40</td>\n    </tr>\n    <tr>\n      <th>1</th>\n      <td>!ABBYY FineReader 12 Professional Edition Full...</td>\n      <td>1</td>\n      <td>76</td>\n    </tr>\n    <tr>\n      <th>2</th>\n      <td>***В ЛУЧАХ СЛАВЫ   (UNV)                    D</td>\n      <td>2</td>\n      <td>40</td>\n    </tr>\n    <tr>\n      <th>3</th>\n      <td>***ГОЛУБАЯ ВОЛНА  (Univ)                      D</td>\n      <td>3</td>\n      <td>40</td>\n    </tr>\n    <tr>\n      <th>4</th>\n      <td>***КОРОБКА (СТЕКЛО)                       D</td>\n      <td>4</td>\n      <td>40</td>\n    </tr>\n  </tbody>\n</table>\n</div>"
     },
     "metadata": {},
     "execution_count": 47
    }
   ],
   "source": [
    "items.head()"
   ]
  },
  {
   "cell_type": "code",
   "execution_count": 48,
   "metadata": {},
   "outputs": [
    {
     "output_type": "execute_result",
     "data": {
      "text/plain": "        item_category_name  item_category_id\n0  PC - Гарнитуры/Наушники                 0\n1         Аксессуары - PS2                 1\n2         Аксессуары - PS3                 2\n3         Аксессуары - PS4                 3\n4         Аксессуары - PSP                 4",
      "text/html": "<div>\n<style scoped>\n    .dataframe tbody tr th:only-of-type {\n        vertical-align: middle;\n    }\n\n    .dataframe tbody tr th {\n        vertical-align: top;\n    }\n\n    .dataframe thead th {\n        text-align: right;\n    }\n</style>\n<table border=\"1\" class=\"dataframe\">\n  <thead>\n    <tr style=\"text-align: right;\">\n      <th></th>\n      <th>item_category_name</th>\n      <th>item_category_id</th>\n    </tr>\n  </thead>\n  <tbody>\n    <tr>\n      <th>0</th>\n      <td>PC - Гарнитуры/Наушники</td>\n      <td>0</td>\n    </tr>\n    <tr>\n      <th>1</th>\n      <td>Аксессуары - PS2</td>\n      <td>1</td>\n    </tr>\n    <tr>\n      <th>2</th>\n      <td>Аксессуары - PS3</td>\n      <td>2</td>\n    </tr>\n    <tr>\n      <th>3</th>\n      <td>Аксессуары - PS4</td>\n      <td>3</td>\n    </tr>\n    <tr>\n      <th>4</th>\n      <td>Аксессуары - PSP</td>\n      <td>4</td>\n    </tr>\n  </tbody>\n</table>\n</div>"
     },
     "metadata": {},
     "execution_count": 48
    }
   ],
   "source": [
    "item_categories.head()"
   ]
  },
  {
   "cell_type": "code",
   "execution_count": 49,
   "metadata": {},
   "outputs": [
    {
     "output_type": "execute_result",
     "data": {
      "text/plain": "                        shop_name  shop_id\n0   !Якутск Орджоникидзе, 56 фран        0\n1   !Якутск ТЦ \"Центральный\" фран        1\n2                Адыгея ТЦ \"Мега\"        2\n3  Балашиха ТРК \"Октябрь-Киномир\"        3\n4        Волжский ТЦ \"Волга Молл\"        4",
      "text/html": "<div>\n<style scoped>\n    .dataframe tbody tr th:only-of-type {\n        vertical-align: middle;\n    }\n\n    .dataframe tbody tr th {\n        vertical-align: top;\n    }\n\n    .dataframe thead th {\n        text-align: right;\n    }\n</style>\n<table border=\"1\" class=\"dataframe\">\n  <thead>\n    <tr style=\"text-align: right;\">\n      <th></th>\n      <th>shop_name</th>\n      <th>shop_id</th>\n    </tr>\n  </thead>\n  <tbody>\n    <tr>\n      <th>0</th>\n      <td>!Якутск Орджоникидзе, 56 фран</td>\n      <td>0</td>\n    </tr>\n    <tr>\n      <th>1</th>\n      <td>!Якутск ТЦ \"Центральный\" фран</td>\n      <td>1</td>\n    </tr>\n    <tr>\n      <th>2</th>\n      <td>Адыгея ТЦ \"Мега\"</td>\n      <td>2</td>\n    </tr>\n    <tr>\n      <th>3</th>\n      <td>Балашиха ТРК \"Октябрь-Киномир\"</td>\n      <td>3</td>\n    </tr>\n    <tr>\n      <th>4</th>\n      <td>Волжский ТЦ \"Волга Молл\"</td>\n      <td>4</td>\n    </tr>\n  </tbody>\n</table>\n</div>"
     },
     "metadata": {},
     "execution_count": 49
    }
   ],
   "source": [
    "shops.head()"
   ]
  },
  {
   "cell_type": "markdown",
   "metadata": {},
   "source": [
    "The test dataset is for November 2015!"
   ]
  },
  {
   "cell_type": "code",
   "execution_count": 50,
   "metadata": {},
   "outputs": [
    {
     "output_type": "execute_result",
     "data": {
      "text/plain": "   ID  shop_id  item_id\n0   0        5     5037\n1   1        5     5320\n2   2        5     5233\n3   3        5     5232\n4   4        5     5268",
      "text/html": "<div>\n<style scoped>\n    .dataframe tbody tr th:only-of-type {\n        vertical-align: middle;\n    }\n\n    .dataframe tbody tr th {\n        vertical-align: top;\n    }\n\n    .dataframe thead th {\n        text-align: right;\n    }\n</style>\n<table border=\"1\" class=\"dataframe\">\n  <thead>\n    <tr style=\"text-align: right;\">\n      <th></th>\n      <th>ID</th>\n      <th>shop_id</th>\n      <th>item_id</th>\n    </tr>\n  </thead>\n  <tbody>\n    <tr>\n      <th>0</th>\n      <td>0</td>\n      <td>5</td>\n      <td>5037</td>\n    </tr>\n    <tr>\n      <th>1</th>\n      <td>1</td>\n      <td>5</td>\n      <td>5320</td>\n    </tr>\n    <tr>\n      <th>2</th>\n      <td>2</td>\n      <td>5</td>\n      <td>5233</td>\n    </tr>\n    <tr>\n      <th>3</th>\n      <td>3</td>\n      <td>5</td>\n      <td>5232</td>\n    </tr>\n    <tr>\n      <th>4</th>\n      <td>4</td>\n      <td>5</td>\n      <td>5268</td>\n    </tr>\n  </tbody>\n</table>\n</div>"
     },
     "metadata": {},
     "execution_count": 50
    }
   ],
   "source": [
    "test.head()"
   ]
  },
  {
   "cell_type": "code",
   "execution_count": 51,
   "metadata": {},
   "outputs": [
    {
     "output_type": "execute_result",
     "data": {
      "text/plain": "   ID  item_cnt_month\n0   0             0.5\n1   1             0.5\n2   2             0.5\n3   3             0.5\n4   4             0.5",
      "text/html": "<div>\n<style scoped>\n    .dataframe tbody tr th:only-of-type {\n        vertical-align: middle;\n    }\n\n    .dataframe tbody tr th {\n        vertical-align: top;\n    }\n\n    .dataframe thead th {\n        text-align: right;\n    }\n</style>\n<table border=\"1\" class=\"dataframe\">\n  <thead>\n    <tr style=\"text-align: right;\">\n      <th></th>\n      <th>ID</th>\n      <th>item_cnt_month</th>\n    </tr>\n  </thead>\n  <tbody>\n    <tr>\n      <th>0</th>\n      <td>0</td>\n      <td>0.5</td>\n    </tr>\n    <tr>\n      <th>1</th>\n      <td>1</td>\n      <td>0.5</td>\n    </tr>\n    <tr>\n      <th>2</th>\n      <td>2</td>\n      <td>0.5</td>\n    </tr>\n    <tr>\n      <th>3</th>\n      <td>3</td>\n      <td>0.5</td>\n    </tr>\n    <tr>\n      <th>4</th>\n      <td>4</td>\n      <td>0.5</td>\n    </tr>\n  </tbody>\n</table>\n</div>"
     },
     "metadata": {},
     "execution_count": 51
    }
   ],
   "source": [
    "sample_sub.head()"
   ]
  },
  {
   "cell_type": "markdown",
   "metadata": {},
   "source": [
    "## Cleaning data"
   ]
  },
  {
   "cell_type": "code",
   "execution_count": 52,
   "metadata": {},
   "outputs": [
    {
     "output_type": "execute_result",
     "data": {
      "text/plain": "date              0\ndate_block_num    0\nshop_id           0\nitem_id           0\nitem_price        0\nitem_cnt_day      0\ndtype: int64"
     },
     "metadata": {},
     "execution_count": 52
    }
   ],
   "source": [
    "# nan\n",
    "transactions.isna().sum()"
   ]
  },
  {
   "cell_type": "code",
   "execution_count": 53,
   "metadata": {},
   "outputs": [
    {
     "output_type": "execute_result",
     "data": {
      "text/plain": "item_name           0\nitem_id             0\nitem_category_id    0\ndtype: int64"
     },
     "metadata": {},
     "execution_count": 53
    }
   ],
   "source": [
    "items.isna().sum()"
   ]
  },
  {
   "cell_type": "code",
   "execution_count": 54,
   "metadata": {},
   "outputs": [
    {
     "output_type": "execute_result",
     "data": {
      "text/plain": "item_category_name    0\nitem_category_id      0\ndtype: int64"
     },
     "metadata": {},
     "execution_count": 54
    }
   ],
   "source": [
    "item_categories.isna().sum()"
   ]
  },
  {
   "cell_type": "code",
   "execution_count": 55,
   "metadata": {},
   "outputs": [
    {
     "output_type": "execute_result",
     "data": {
      "text/plain": "False    2935843\nTrue           6\ndtype: int64"
     },
     "metadata": {},
     "execution_count": 55
    }
   ],
   "source": [
    "# duplicates\n",
    "transactions.duplicated().value_counts()"
   ]
  },
  {
   "cell_type": "code",
   "execution_count": 56,
   "metadata": {},
   "outputs": [],
   "source": [
    "transactions.drop_duplicates(inplace=True)"
   ]
  },
  {
   "cell_type": "code",
   "execution_count": 57,
   "metadata": {},
   "outputs": [
    {
     "output_type": "execute_result",
     "data": {
      "text/plain": "False    22170\ndtype: int64"
     },
     "metadata": {},
     "execution_count": 57
    }
   ],
   "source": [
    "items.duplicated().value_counts()"
   ]
  },
  {
   "cell_type": "code",
   "execution_count": 58,
   "metadata": {},
   "outputs": [
    {
     "output_type": "execute_result",
     "data": {
      "text/plain": "False    84\ndtype: int64"
     },
     "metadata": {},
     "execution_count": 58
    }
   ],
   "source": [
    "item_categories.duplicated().value_counts()"
   ]
  },
  {
   "cell_type": "markdown",
   "metadata": {},
   "source": [
    "## Joining forms"
   ]
  },
  {
   "cell_type": "code",
   "execution_count": 59,
   "metadata": {},
   "outputs": [],
   "source": [
    "data = pd.merge(transactions, items, how='left', on='item_id')\n",
    "data = pd.merge(data, item_categories, how='left', on='item_category_id')\n",
    "data = pd.merge(data, shops, how='left', on='shop_id')"
   ]
  },
  {
   "cell_type": "code",
   "execution_count": 60,
   "metadata": {},
   "outputs": [
    {
     "output_type": "execute_result",
     "data": {
      "text/plain": "date                  0\ndate_block_num        0\nshop_id               0\nitem_id               0\nitem_price            0\nitem_cnt_day          0\nitem_name             0\nitem_category_id      0\nitem_category_name    0\nshop_name             0\ndtype: int64"
     },
     "metadata": {},
     "execution_count": 60
    }
   ],
   "source": [
    "data.isnull().sum()"
   ]
  },
  {
   "cell_type": "code",
   "execution_count": 61,
   "metadata": {},
   "outputs": [],
   "source": [
    "# add month, year\n",
    "data = data.assign(month=data.date.map(lambda x: x.month), year=data.date.map(lambda x: x.year))"
   ]
  },
  {
   "cell_type": "code",
   "execution_count": 62,
   "metadata": {},
   "outputs": [],
   "source": [
    "# save processed data\n",
    "data.to_hdf(DATA_FOLDER + 'train_data.hf', 'df')"
   ]
  },
  {
   "cell_type": "markdown",
   "metadata": {},
   "source": [
    "## Load data"
   ]
  },
  {
   "cell_type": "code",
   "execution_count": 2,
   "metadata": {},
   "outputs": [],
   "source": [
    "DATA_FOLDER = './competitive-data-science-predict-future-sales/'\n",
    "data = pd.read_hdf(DATA_FOLDER + 'train_data.hf', 'df')\n",
    "items           = pd.read_csv(os.path.join(DATA_FOLDER, 'items.csv'))\n",
    "item_categories = pd.read_csv(os.path.join(DATA_FOLDER, 'item_categories.csv'))\n",
    "shops           = pd.read_csv(os.path.join(DATA_FOLDER, 'shops.csv'))\n",
    "test = pd.read_csv(DATA_FOLDER + 'test.csv')\n",
    "sample_sub = pd.read_csv(DATA_FOLDER + 'sample_submission.csv')"
   ]
  },
  {
   "cell_type": "code",
   "execution_count": 4,
   "metadata": {},
   "outputs": [
    {
     "output_type": "execute_result",
     "data": {
      "text/plain": "        date  date_block_num  shop_id  item_id  item_price  item_cnt_day  \\\n0 2013-02-01               0       59    22154      999.00           1.0   \n1 2013-03-01               0       25     2552      899.00           1.0   \n2 2013-05-01               0       25     2552      899.00          -1.0   \n3 2013-06-01               0       25     2554     1709.05           1.0   \n4 2013-01-15               0       25     2555     1099.00           1.0   \n\n                                  item_name  item_category_id  \\\n0                         ЯВЛЕНИЕ 2012 (BD)                37   \n1  DEEP PURPLE  The House Of Blue Light  LP                58   \n2  DEEP PURPLE  The House Of Blue Light  LP                58   \n3  DEEP PURPLE  Who Do You Think We Are  LP                58   \n4   DEEP PURPLE 30 Very Best Of 2CD (Фирм.)                56   \n\n                    item_category_name               shop_name  month  year  \n0                       Кино - Blu-Ray  Ярославль ТЦ \"Альтаир\"      2  2013  \n1                       Музыка - Винил     Москва ТРК \"Атриум\"      3  2013  \n2                       Музыка - Винил     Москва ТРК \"Атриум\"      5  2013  \n3                       Музыка - Винил     Москва ТРК \"Атриум\"      6  2013  \n4  Музыка - CD фирменного производства     Москва ТРК \"Атриум\"      1  2013  ",
      "text/html": "<div>\n<style scoped>\n    .dataframe tbody tr th:only-of-type {\n        vertical-align: middle;\n    }\n\n    .dataframe tbody tr th {\n        vertical-align: top;\n    }\n\n    .dataframe thead th {\n        text-align: right;\n    }\n</style>\n<table border=\"1\" class=\"dataframe\">\n  <thead>\n    <tr style=\"text-align: right;\">\n      <th></th>\n      <th>date</th>\n      <th>date_block_num</th>\n      <th>shop_id</th>\n      <th>item_id</th>\n      <th>item_price</th>\n      <th>item_cnt_day</th>\n      <th>item_name</th>\n      <th>item_category_id</th>\n      <th>item_category_name</th>\n      <th>shop_name</th>\n      <th>month</th>\n      <th>year</th>\n    </tr>\n  </thead>\n  <tbody>\n    <tr>\n      <th>0</th>\n      <td>2013-02-01</td>\n      <td>0</td>\n      <td>59</td>\n      <td>22154</td>\n      <td>999.00</td>\n      <td>1.0</td>\n      <td>ЯВЛЕНИЕ 2012 (BD)</td>\n      <td>37</td>\n      <td>Кино - Blu-Ray</td>\n      <td>Ярославль ТЦ \"Альтаир\"</td>\n      <td>2</td>\n      <td>2013</td>\n    </tr>\n    <tr>\n      <th>1</th>\n      <td>2013-03-01</td>\n      <td>0</td>\n      <td>25</td>\n      <td>2552</td>\n      <td>899.00</td>\n      <td>1.0</td>\n      <td>DEEP PURPLE  The House Of Blue Light  LP</td>\n      <td>58</td>\n      <td>Музыка - Винил</td>\n      <td>Москва ТРК \"Атриум\"</td>\n      <td>3</td>\n      <td>2013</td>\n    </tr>\n    <tr>\n      <th>2</th>\n      <td>2013-05-01</td>\n      <td>0</td>\n      <td>25</td>\n      <td>2552</td>\n      <td>899.00</td>\n      <td>-1.0</td>\n      <td>DEEP PURPLE  The House Of Blue Light  LP</td>\n      <td>58</td>\n      <td>Музыка - Винил</td>\n      <td>Москва ТРК \"Атриум\"</td>\n      <td>5</td>\n      <td>2013</td>\n    </tr>\n    <tr>\n      <th>3</th>\n      <td>2013-06-01</td>\n      <td>0</td>\n      <td>25</td>\n      <td>2554</td>\n      <td>1709.05</td>\n      <td>1.0</td>\n      <td>DEEP PURPLE  Who Do You Think We Are  LP</td>\n      <td>58</td>\n      <td>Музыка - Винил</td>\n      <td>Москва ТРК \"Атриум\"</td>\n      <td>6</td>\n      <td>2013</td>\n    </tr>\n    <tr>\n      <th>4</th>\n      <td>2013-01-15</td>\n      <td>0</td>\n      <td>25</td>\n      <td>2555</td>\n      <td>1099.00</td>\n      <td>1.0</td>\n      <td>DEEP PURPLE 30 Very Best Of 2CD (Фирм.)</td>\n      <td>56</td>\n      <td>Музыка - CD фирменного производства</td>\n      <td>Москва ТРК \"Атриум\"</td>\n      <td>1</td>\n      <td>2013</td>\n    </tr>\n  </tbody>\n</table>\n</div>"
     },
     "metadata": {},
     "execution_count": 4
    }
   ],
   "source": [
    "data.head()"
   ]
  },
  {
   "cell_type": "markdown",
   "metadata": {},
   "source": [
    "## aggregating"
   ]
  },
  {
   "cell_type": "code",
   "execution_count": 3,
   "metadata": {},
   "outputs": [
    {
     "output_type": "execute_result",
     "data": {
      "text/plain": "   date_block_num  shop_id  item_id      item_name  item_category_id  \\\n0               0        0       32            1+1                40   \n1               0        0       32            1+1                40   \n2               0        0       33       1+1 (BD)                37   \n3               0        0       33       1+1 (BD)                37   \n4               0        0       35  10 ЛЕТ СПУСТЯ                40   \n\n  item_category_name                      shop_name  month  year  order_cnt  \\\n0         Кино - DVD  !Якутск Орджоникидзе, 56 фран      1  2013          3   \n1         Кино - DVD  !Якутск Орджоникидзе, 56 фран      3  2013          1   \n2     Кино - Blu-Ray  !Якутск Орджоникидзе, 56 фран      1  2013          2   \n3     Кино - Blu-Ray  !Якутск Орджоникидзе, 56 фран      3  2013          1   \n4         Кино - DVD  !Якутск Орджоникидзе, 56 фран      1  2013          1   \n\n   item_cnt  item_mean_price  \n0       4.0            221.0  \n1       2.0            221.0  \n2       2.0            347.0  \n3       1.0            347.0  \n4       1.0            247.0  ",
      "text/html": "<div>\n<style scoped>\n    .dataframe tbody tr th:only-of-type {\n        vertical-align: middle;\n    }\n\n    .dataframe tbody tr th {\n        vertical-align: top;\n    }\n\n    .dataframe thead th {\n        text-align: right;\n    }\n</style>\n<table border=\"1\" class=\"dataframe\">\n  <thead>\n    <tr style=\"text-align: right;\">\n      <th></th>\n      <th>date_block_num</th>\n      <th>shop_id</th>\n      <th>item_id</th>\n      <th>item_name</th>\n      <th>item_category_id</th>\n      <th>item_category_name</th>\n      <th>shop_name</th>\n      <th>month</th>\n      <th>year</th>\n      <th>order_cnt</th>\n      <th>item_cnt</th>\n      <th>item_mean_price</th>\n    </tr>\n  </thead>\n  <tbody>\n    <tr>\n      <th>0</th>\n      <td>0</td>\n      <td>0</td>\n      <td>32</td>\n      <td>1+1</td>\n      <td>40</td>\n      <td>Кино - DVD</td>\n      <td>!Якутск Орджоникидзе, 56 фран</td>\n      <td>1</td>\n      <td>2013</td>\n      <td>3</td>\n      <td>4.0</td>\n      <td>221.0</td>\n    </tr>\n    <tr>\n      <th>1</th>\n      <td>0</td>\n      <td>0</td>\n      <td>32</td>\n      <td>1+1</td>\n      <td>40</td>\n      <td>Кино - DVD</td>\n      <td>!Якутск Орджоникидзе, 56 фран</td>\n      <td>3</td>\n      <td>2013</td>\n      <td>1</td>\n      <td>2.0</td>\n      <td>221.0</td>\n    </tr>\n    <tr>\n      <th>2</th>\n      <td>0</td>\n      <td>0</td>\n      <td>33</td>\n      <td>1+1 (BD)</td>\n      <td>37</td>\n      <td>Кино - Blu-Ray</td>\n      <td>!Якутск Орджоникидзе, 56 фран</td>\n      <td>1</td>\n      <td>2013</td>\n      <td>2</td>\n      <td>2.0</td>\n      <td>347.0</td>\n    </tr>\n    <tr>\n      <th>3</th>\n      <td>0</td>\n      <td>0</td>\n      <td>33</td>\n      <td>1+1 (BD)</td>\n      <td>37</td>\n      <td>Кино - Blu-Ray</td>\n      <td>!Якутск Орджоникидзе, 56 фран</td>\n      <td>3</td>\n      <td>2013</td>\n      <td>1</td>\n      <td>1.0</td>\n      <td>347.0</td>\n    </tr>\n    <tr>\n      <th>4</th>\n      <td>0</td>\n      <td>0</td>\n      <td>35</td>\n      <td>10 ЛЕТ СПУСТЯ</td>\n      <td>40</td>\n      <td>Кино - DVD</td>\n      <td>!Якутск Орджоникидзе, 56 фран</td>\n      <td>1</td>\n      <td>2013</td>\n      <td>1</td>\n      <td>1.0</td>\n      <td>247.0</td>\n    </tr>\n  </tbody>\n</table>\n</div>"
     },
     "metadata": {},
     "execution_count": 3
    }
   ],
   "source": [
    "columns = ['date_block_num', 'shop_id', 'item_id', 'item_name', 'item_category_id', 'item_category_name',\n",
    "           'shop_name', 'month', 'year']\n",
    "data_monthly = data.groupby(columns).agg(order_cnt=('item_cnt_day', 'count'), item_cnt=('item_cnt_day', 'sum'), item_mean_price=('item_price', 'mean')).reset_index()\n",
    "data_monthly.head()"
   ]
  },
  {
   "cell_type": "markdown",
   "metadata": {},
   "source": [
    "## Benchmarks"
   ]
  },
  {
   "cell_type": "markdown",
   "metadata": {},
   "source": [
    "### Lagged values"
   ]
  },
  {
   "cell_type": "code",
   "execution_count": 5,
   "metadata": {},
   "outputs": [
    {
     "output_type": "execute_result",
     "data": {
      "text/plain": "   ID  item_cnt_month\n0   0             0.0\n1   1             0.0\n2   2             0.0\n3   3             0.0\n4   4             0.0",
      "text/html": "<div>\n<style scoped>\n    .dataframe tbody tr th:only-of-type {\n        vertical-align: middle;\n    }\n\n    .dataframe tbody tr th {\n        vertical-align: top;\n    }\n\n    .dataframe thead th {\n        text-align: right;\n    }\n</style>\n<table border=\"1\" class=\"dataframe\">\n  <thead>\n    <tr style=\"text-align: right;\">\n      <th></th>\n      <th>ID</th>\n      <th>item_cnt_month</th>\n    </tr>\n  </thead>\n  <tbody>\n    <tr>\n      <th>0</th>\n      <td>0</td>\n      <td>0.0</td>\n    </tr>\n    <tr>\n      <th>1</th>\n      <td>1</td>\n      <td>0.0</td>\n    </tr>\n    <tr>\n      <th>2</th>\n      <td>2</td>\n      <td>0.0</td>\n    </tr>\n    <tr>\n      <th>3</th>\n      <td>3</td>\n      <td>0.0</td>\n    </tr>\n    <tr>\n      <th>4</th>\n      <td>4</td>\n      <td>0.0</td>\n    </tr>\n  </tbody>\n</table>\n</div>"
     },
     "metadata": {},
     "execution_count": 5
    }
   ],
   "source": [
    "bench = pd.merge(test, data_monthly.loc[(data_monthly.month==10) & (data_monthly.year==2015)][['shop_id', 'item_id', 'item_cnt']], how='left', on=['shop_id', 'item_id'])\n",
    "bench = bench.rename({'item_cnt': 'item_cnt_month'}, axis=1)[['ID', 'item_cnt_month']]\n",
    "bench = bench.fillna(0)\n",
    "def cap(x):\n",
    "    if x < 0:\n",
    "        return 0\n",
    "    if x > 20:\n",
    "        return 20\n",
    "    return x\n",
    "bench = bench.assign(item_cnt_month=bench.item_cnt_month.map(cap))\n",
    "bench.head()"
   ]
  },
  {
   "cell_type": "code",
   "execution_count": 66,
   "metadata": {},
   "outputs": [],
   "source": [
    "bench.to_csv('bench_lag_sub.csv', index=False)"
   ]
  },
  {
   "cell_type": "code",
   "execution_count": 67,
   "metadata": {
    "tags": []
   },
   "outputs": [
    {
     "output_type": "stream",
     "name": "stdout",
     "text": "100%|██████████████████████████████████████| 2.14M/2.14M [00:01<00:00, 1.18MB/s]\nSuccessfully submitted to Predict Future Sales"
    }
   ],
   "source": [
    "!kaggle competitions submit -c competitive-data-science-predict-future-sales -f bench_lag_sub.csv -m \"benchmark submission test\""
   ]
  },
  {
   "cell_type": "code",
   "execution_count": 69,
   "metadata": {
    "tags": []
   },
   "outputs": [
    {
     "output_type": "stream",
     "name": "stdout",
     "text": "fileName            date                 description                 status    publicScore  privateScore  \n------------------  -------------------  --------------------------  --------  -----------  ------------  \nbench_lag_sub.csv   2020-07-10 22:51:22  benchmark submission test   complete  1.14178      None          \nbench2_lag_sub.csv  2020-07-10 22:27:16  benchmark2 submission test  complete  1.14178      None          \nbench_lag_sub.csv   2020-07-10 21:47:56  benchmark submission test   complete  1.14178      None          \nbench_lag_sub.csv   2020-07-10 21:46:14  benchmark submission test   error     None         None          \n"
    }
   ],
   "source": [
    "!kaggle competitions submissions competitive-data-science-predict-future-sales"
   ]
  },
  {
   "cell_type": "markdown",
   "metadata": {},
   "source": [
    "Strange, tips says the score would be 1.16777.\n",
    "Maybe the result is without duplication removal?"
   ]
  },
  {
   "cell_type": "code",
   "execution_count": 35,
   "metadata": {},
   "outputs": [],
   "source": [
    "DATA_FOLDER = './competitive-data-science-predict-future-sales/'\n",
    "\n",
    "transactions    = pd.read_csv(os.path.join(DATA_FOLDER, 'sales_train.csv'), parse_dates=['date'])\n",
    "items           = pd.read_csv(os.path.join(DATA_FOLDER, 'items.csv'))\n",
    "item_categories = pd.read_csv(os.path.join(DATA_FOLDER, 'item_categories.csv'))\n",
    "shops           = pd.read_csv(os.path.join(DATA_FOLDER, 'shops.csv'))\n",
    "test = pd.read_csv(DATA_FOLDER + 'test.csv')\n",
    "sample_sub = pd.read_csv(DATA_FOLDER + 'sample_submission.csv')\n",
    "\n",
    "data2 = pd.merge(transactions, items, how='left', on='item_id')\n",
    "data2 = pd.merge(data2, item_categories, how='left', on='item_category_id')\n",
    "data2 = pd.merge(data2, shops, how='left', on='shop_id')\n",
    "\n",
    "data2 = data2.assign(month=data2.date.map(lambda x: x.month), year=data2.date.map(lambda x: x.year))\n",
    "\n",
    "columns = ['shop_id', 'item_id', 'item_name', 'item_category_id', 'item_category_name',\n",
    "           'shop_name', 'month', 'year']\n",
    "data_monthly2 = data2.groupby(columns).agg(order_cnt=('item_cnt_day', 'count'), item_cnt=('item_cnt_day', 'sum'), item_mean_price=('item_price', 'mean')).reset_index()\n",
    "\n",
    "bench2 = pd.merge(test, data_monthly2.loc[(data_monthly.month==10) & (data_monthly2.year==2015)][['shop_id', 'item_id', 'item_cnt']], how='left', on=['shop_id', 'item_id'])\n",
    "bench2 = bench2.rename({'item_cnt': 'item_cnt_month'}, axis=1)[['ID', 'item_cnt_month']]\n",
    "bench2 = bench2.fillna(0)\n",
    "def cap(x):\n",
    "    if x < 0:\n",
    "        return 0\n",
    "    if x > 20:\n",
    "        return 20\n",
    "    return x\n",
    "bench2 = bench2.assign(item_cnt_month=bench2.item_cnt_month.map(cap))\n",
    "\n",
    "bench2.to_csv('bench2_lag_sub.csv', index=False)"
   ]
  },
  {
   "cell_type": "code",
   "execution_count": 36,
   "metadata": {
    "tags": []
   },
   "outputs": [
    {
     "output_type": "stream",
     "name": "stdout",
     "text": "100%|██████████████████████████████████████| 2.14M/2.14M [00:01<00:00, 1.35MB/s]\nSuccessfully submitted to Predict Future Sales"
    }
   ],
   "source": [
    "!kaggle competitions submit -c competitive-data-science-predict-future-sales -f bench2_lag_sub.csv -m \"benchmark2 submission test\""
   ]
  },
  {
   "cell_type": "code",
   "execution_count": 70,
   "metadata": {
    "tags": []
   },
   "outputs": [
    {
     "output_type": "stream",
     "name": "stdout",
     "text": "fileName            date                 description                 status    publicScore  privateScore  \n------------------  -------------------  --------------------------  --------  -----------  ------------  \nbench_lag_sub.csv   2020-07-10 22:51:22  benchmark submission test   complete  1.14178      None          \nbench2_lag_sub.csv  2020-07-10 22:27:16  benchmark2 submission test  complete  1.14178      None          \nbench_lag_sub.csv   2020-07-10 21:47:56  benchmark submission test   complete  1.14178      None          \nbench_lag_sub.csv   2020-07-10 21:46:14  benchmark submission test   error     None         None          \n"
    }
   ],
   "source": [
    "!kaggle competitions submissions competitive-data-science-predict-future-sales"
   ]
  },
  {
   "cell_type": "markdown",
   "metadata": {},
   "source": [
    "Strange!"
   ]
  },
  {
   "cell_type": "markdown",
   "metadata": {},
   "source": [
    "## Basic feature engineering"
   ]
  },
  {
   "cell_type": "markdown",
   "metadata": {},
   "source": [
    "### shop and categories"
   ]
  },
  {
   "cell_type": "code",
   "execution_count": 19,
   "metadata": {},
   "outputs": [
    {
     "output_type": "execute_result",
     "data": {
      "text/plain": "   date_block_num  shop_id  item_id      item_name  item_category_id  \\\n0               0        0       32            1+1                40   \n1               0        0       32            1+1                40   \n2               0        0       33       1+1 (BD)                37   \n3               0        0       33       1+1 (BD)                37   \n4               0        0       35  10 ЛЕТ СПУСТЯ                40   \n\n  item_category_name                      shop_name  month  year  order_cnt  \\\n0         Кино - DVD  !Якутск Орджоникидзе, 56 фран      1  2013          3   \n1         Кино - DVD  !Якутск Орджоникидзе, 56 фран      3  2013          1   \n2     Кино - Blu-Ray  !Якутск Орджоникидзе, 56 фран      1  2013          2   \n3     Кино - Blu-Ray  !Якутск Орджоникидзе, 56 фран      3  2013          1   \n4         Кино - DVD  !Якутск Орджоникидзе, 56 фран      1  2013          1   \n\n   item_cnt  item_mean_price  \n0       4.0            221.0  \n1       2.0            221.0  \n2       2.0            347.0  \n3       1.0            347.0  \n4       1.0            247.0  ",
      "text/html": "<div>\n<style scoped>\n    .dataframe tbody tr th:only-of-type {\n        vertical-align: middle;\n    }\n\n    .dataframe tbody tr th {\n        vertical-align: top;\n    }\n\n    .dataframe thead th {\n        text-align: right;\n    }\n</style>\n<table border=\"1\" class=\"dataframe\">\n  <thead>\n    <tr style=\"text-align: right;\">\n      <th></th>\n      <th>date_block_num</th>\n      <th>shop_id</th>\n      <th>item_id</th>\n      <th>item_name</th>\n      <th>item_category_id</th>\n      <th>item_category_name</th>\n      <th>shop_name</th>\n      <th>month</th>\n      <th>year</th>\n      <th>order_cnt</th>\n      <th>item_cnt</th>\n      <th>item_mean_price</th>\n    </tr>\n  </thead>\n  <tbody>\n    <tr>\n      <th>0</th>\n      <td>0</td>\n      <td>0</td>\n      <td>32</td>\n      <td>1+1</td>\n      <td>40</td>\n      <td>Кино - DVD</td>\n      <td>!Якутск Орджоникидзе, 56 фран</td>\n      <td>1</td>\n      <td>2013</td>\n      <td>3</td>\n      <td>4.0</td>\n      <td>221.0</td>\n    </tr>\n    <tr>\n      <th>1</th>\n      <td>0</td>\n      <td>0</td>\n      <td>32</td>\n      <td>1+1</td>\n      <td>40</td>\n      <td>Кино - DVD</td>\n      <td>!Якутск Орджоникидзе, 56 фран</td>\n      <td>3</td>\n      <td>2013</td>\n      <td>1</td>\n      <td>2.0</td>\n      <td>221.0</td>\n    </tr>\n    <tr>\n      <th>2</th>\n      <td>0</td>\n      <td>0</td>\n      <td>33</td>\n      <td>1+1 (BD)</td>\n      <td>37</td>\n      <td>Кино - Blu-Ray</td>\n      <td>!Якутск Орджоникидзе, 56 фран</td>\n      <td>1</td>\n      <td>2013</td>\n      <td>2</td>\n      <td>2.0</td>\n      <td>347.0</td>\n    </tr>\n    <tr>\n      <th>3</th>\n      <td>0</td>\n      <td>0</td>\n      <td>33</td>\n      <td>1+1 (BD)</td>\n      <td>37</td>\n      <td>Кино - Blu-Ray</td>\n      <td>!Якутск Орджоникидзе, 56 фран</td>\n      <td>3</td>\n      <td>2013</td>\n      <td>1</td>\n      <td>1.0</td>\n      <td>347.0</td>\n    </tr>\n    <tr>\n      <th>4</th>\n      <td>0</td>\n      <td>0</td>\n      <td>35</td>\n      <td>10 ЛЕТ СПУСТЯ</td>\n      <td>40</td>\n      <td>Кино - DVD</td>\n      <td>!Якутск Орджоникидзе, 56 фран</td>\n      <td>1</td>\n      <td>2013</td>\n      <td>1</td>\n      <td>1.0</td>\n      <td>247.0</td>\n    </tr>\n  </tbody>\n</table>\n</div>"
     },
     "metadata": {},
     "execution_count": 19
    }
   ],
   "source": [
    "data_monthly.head()"
   ]
  },
  {
   "cell_type": "code",
   "execution_count": 4,
   "metadata": {},
   "outputs": [
    {
     "output_type": "execute_result",
     "data": {
      "text/plain": "array(['Якутск', 'Адыгея', 'Балашиха', 'Волжский', 'Воронеж', 'Жуковский',\n       'Интернет-магазин', 'Казань', 'Калуга', 'Коломна', 'Красноярск',\n       'Курск', 'Москва', 'Н.Новгород', 'Новосибирск', 'Омск',\n       'РостовНаДону', 'СПб', 'Самара', 'Сергиев', 'Сургут', 'Тюмень',\n       'Уфа', 'Химки', 'Чехов', 'Ярославль', 'Вологда', 'Цифровой',\n       'Выездная', 'Томск', 'Мытищи'], dtype=object)"
     },
     "metadata": {},
     "execution_count": 4
    }
   ],
   "source": [
    "data_monthly = data_monthly.assign(city=data_monthly.shop_name.str.split(' ').map(lambda x: x[0]))\n",
    "data_monthly.loc[data_monthly.city=='!Якутск', 'city'] = 'Якутск'\n",
    "data_monthly.city.unique()"
   ]
  },
  {
   "cell_type": "code",
   "execution_count": 5,
   "metadata": {},
   "outputs": [],
   "source": [
    "category_split = data_monthly.item_category_name.str.split('-')\n",
    "data_monthly = data_monthly.assign(category=category_split.map(lambda x: x[0].strip()), \n",
    "                                   subcategory=category_split.map(lambda x: x[1].strip() if len(x) > 1 else x[0].strip()))"
   ]
  },
  {
   "cell_type": "code",
   "execution_count": 8,
   "metadata": {},
   "outputs": [
    {
     "output_type": "execute_result",
     "data": {
      "text/plain": "array(['Кино', 'Музыка', 'Книги', 'Программы', 'Игры PC', 'Подарки',\n       'Игры', 'Аксессуары', 'Игровые консоли', 'Карты оплаты',\n       'Чистые носители (шпиль)', 'Чистые носители (штучные)',\n       'Элементы питания', 'Служебные', 'Доставка товара', 'PC',\n       'Карты оплаты (Кино, Музыка, Игры)', 'Билеты (Цифра)', 'Игры MAC',\n       'Игры Android'], dtype=object)"
     },
     "metadata": {},
     "execution_count": 8
    }
   ],
   "source": [
    "data_monthly.category.unique()"
   ]
  },
  {
   "cell_type": "code",
   "execution_count": 9,
   "metadata": {},
   "outputs": [
    {
     "output_type": "execute_result",
     "data": {
      "text/plain": "array(['DVD', 'Blu', 'MP3', 'Аудиокниги', 'Аудиокниги 1С',\n       '1С:Предприятие 8', 'Методические материалы 1С', 'Обучающие',\n       'Стандартные издания', 'Развитие', 'CD локального производства',\n       'Музыкальное видео', 'Для дома и офиса', 'PS3', 'XBOX 360',\n       'PSVita', 'Дополнительные издания', 'PSP', 'Коллекционные издания',\n       'Гаджеты, роботы, спорт', 'CD фирменного производства', 'PSN',\n       'Аксессуары для игр', 'Сувениры', 'Live!', 'Коллекционное',\n       'Мягкие игрушки', 'Сувениры (в навеску)', 'Подарочные издания',\n       'PS4', 'Чистые носители (шпиль)', 'Чистые носители (штучные)',\n       'Настольные игры (компактные)', 'Настольные игры', 'Фигурки',\n       'Элементы питания', 'Служебные', 'Винил', 'Открытки, наклейки',\n       'Атрибутика', 'Бизнес литература', 'Доставка товара',\n       'Сумки, Альбомы, Коврики д/мыши', 'PS2', 'Сертификаты, услуги',\n       'Гарнитуры/Наушники', 'Компьютерная литература', 'Путеводители',\n       'Аудиокниги (Цифра)', 'Для дома и офиса (Цифра)', 'Цифра',\n       'Обучающие (Цифра)', 'Карты оплаты (Кино, Музыка, Игры)',\n       'Художественная литература', 'Прочие', 'Билеты (Цифра)',\n       'XBOX ONE', 'Познавательная литература', 'Live! (Цифра)',\n       'MAC (Цифра)', 'Комиксы, манга', 'Открытки',\n       'Артбуки, энциклопедии', 'Билеты', 'Windows (Цифра)'], dtype=object)"
     },
     "metadata": {},
     "execution_count": 9
    }
   ],
   "source": [
    "data_monthly.subcategory.unique()"
   ]
  },
  {
   "cell_type": "markdown",
   "metadata": {},
   "source": [
    "### Lagged feature"
   ]
  },
  {
   "cell_type": "code",
   "execution_count": 6,
   "metadata": {},
   "outputs": [
    {
     "output_type": "execute_result",
     "data": {
      "text/plain": "   date_block_num  shop_id  item_id  item_cnt_lag\n0               1        0       32           4.0\n1               1        0       32           2.0\n2               1        0       33           2.0\n3               1        0       33           1.0\n4               1        0       35           1.0",
      "text/html": "<div>\n<style scoped>\n    .dataframe tbody tr th:only-of-type {\n        vertical-align: middle;\n    }\n\n    .dataframe tbody tr th {\n        vertical-align: top;\n    }\n\n    .dataframe thead th {\n        text-align: right;\n    }\n</style>\n<table border=\"1\" class=\"dataframe\">\n  <thead>\n    <tr style=\"text-align: right;\">\n      <th></th>\n      <th>date_block_num</th>\n      <th>shop_id</th>\n      <th>item_id</th>\n      <th>item_cnt_lag</th>\n    </tr>\n  </thead>\n  <tbody>\n    <tr>\n      <th>0</th>\n      <td>1</td>\n      <td>0</td>\n      <td>32</td>\n      <td>4.0</td>\n    </tr>\n    <tr>\n      <th>1</th>\n      <td>1</td>\n      <td>0</td>\n      <td>32</td>\n      <td>2.0</td>\n    </tr>\n    <tr>\n      <th>2</th>\n      <td>1</td>\n      <td>0</td>\n      <td>33</td>\n      <td>2.0</td>\n    </tr>\n    <tr>\n      <th>3</th>\n      <td>1</td>\n      <td>0</td>\n      <td>33</td>\n      <td>1.0</td>\n    </tr>\n    <tr>\n      <th>4</th>\n      <td>1</td>\n      <td>0</td>\n      <td>35</td>\n      <td>1.0</td>\n    </tr>\n  </tbody>\n</table>\n</div>"
     },
     "metadata": {},
     "execution_count": 6
    }
   ],
   "source": [
    "data_lag = data_monthly[['date_block_num','shop_id','item_id', 'item_cnt']]\n",
    "data_lag['date_block_num'] += 1\n",
    "data_lag = data_lag.rename({'item_cnt': 'item_cnt_lag'}, axis=1)\n",
    "data_lag.head()"
   ]
  },
  {
   "cell_type": "code",
   "execution_count": 7,
   "metadata": {},
   "outputs": [
    {
     "output_type": "execute_result",
     "data": {
      "text/plain": "   date_block_num  shop_id  item_id      item_name  item_category_id  \\\n0               0        0       32            1+1                40   \n1               0        0       32            1+1                40   \n2               0        0       33       1+1 (BD)                37   \n3               0        0       33       1+1 (BD)                37   \n4               0        0       35  10 ЛЕТ СПУСТЯ                40   \n\n  item_category_name                      shop_name  month  year  order_cnt  \\\n0         Кино - DVD  !Якутск Орджоникидзе, 56 фран      1  2013          3   \n1         Кино - DVD  !Якутск Орджоникидзе, 56 фран      3  2013          1   \n2     Кино - Blu-Ray  !Якутск Орджоникидзе, 56 фран      1  2013          2   \n3     Кино - Blu-Ray  !Якутск Орджоникидзе, 56 фран      3  2013          1   \n4         Кино - DVD  !Якутск Орджоникидзе, 56 фран      1  2013          1   \n\n   item_cnt  item_mean_price    city category subcategory  item_cnt_lag  \n0       4.0            221.0  Якутск     Кино         DVD           NaN  \n1       2.0            221.0  Якутск     Кино         DVD           NaN  \n2       2.0            347.0  Якутск     Кино         Blu           NaN  \n3       1.0            347.0  Якутск     Кино         Blu           NaN  \n4       1.0            247.0  Якутск     Кино         DVD           NaN  ",
      "text/html": "<div>\n<style scoped>\n    .dataframe tbody tr th:only-of-type {\n        vertical-align: middle;\n    }\n\n    .dataframe tbody tr th {\n        vertical-align: top;\n    }\n\n    .dataframe thead th {\n        text-align: right;\n    }\n</style>\n<table border=\"1\" class=\"dataframe\">\n  <thead>\n    <tr style=\"text-align: right;\">\n      <th></th>\n      <th>date_block_num</th>\n      <th>shop_id</th>\n      <th>item_id</th>\n      <th>item_name</th>\n      <th>item_category_id</th>\n      <th>item_category_name</th>\n      <th>shop_name</th>\n      <th>month</th>\n      <th>year</th>\n      <th>order_cnt</th>\n      <th>item_cnt</th>\n      <th>item_mean_price</th>\n      <th>city</th>\n      <th>category</th>\n      <th>subcategory</th>\n      <th>item_cnt_lag</th>\n    </tr>\n  </thead>\n  <tbody>\n    <tr>\n      <th>0</th>\n      <td>0</td>\n      <td>0</td>\n      <td>32</td>\n      <td>1+1</td>\n      <td>40</td>\n      <td>Кино - DVD</td>\n      <td>!Якутск Орджоникидзе, 56 фран</td>\n      <td>1</td>\n      <td>2013</td>\n      <td>3</td>\n      <td>4.0</td>\n      <td>221.0</td>\n      <td>Якутск</td>\n      <td>Кино</td>\n      <td>DVD</td>\n      <td>NaN</td>\n    </tr>\n    <tr>\n      <th>1</th>\n      <td>0</td>\n      <td>0</td>\n      <td>32</td>\n      <td>1+1</td>\n      <td>40</td>\n      <td>Кино - DVD</td>\n      <td>!Якутск Орджоникидзе, 56 фран</td>\n      <td>3</td>\n      <td>2013</td>\n      <td>1</td>\n      <td>2.0</td>\n      <td>221.0</td>\n      <td>Якутск</td>\n      <td>Кино</td>\n      <td>DVD</td>\n      <td>NaN</td>\n    </tr>\n    <tr>\n      <th>2</th>\n      <td>0</td>\n      <td>0</td>\n      <td>33</td>\n      <td>1+1 (BD)</td>\n      <td>37</td>\n      <td>Кино - Blu-Ray</td>\n      <td>!Якутск Орджоникидзе, 56 фран</td>\n      <td>1</td>\n      <td>2013</td>\n      <td>2</td>\n      <td>2.0</td>\n      <td>347.0</td>\n      <td>Якутск</td>\n      <td>Кино</td>\n      <td>Blu</td>\n      <td>NaN</td>\n    </tr>\n    <tr>\n      <th>3</th>\n      <td>0</td>\n      <td>0</td>\n      <td>33</td>\n      <td>1+1 (BD)</td>\n      <td>37</td>\n      <td>Кино - Blu-Ray</td>\n      <td>!Якутск Орджоникидзе, 56 фран</td>\n      <td>3</td>\n      <td>2013</td>\n      <td>1</td>\n      <td>1.0</td>\n      <td>347.0</td>\n      <td>Якутск</td>\n      <td>Кино</td>\n      <td>Blu</td>\n      <td>NaN</td>\n    </tr>\n    <tr>\n      <th>4</th>\n      <td>0</td>\n      <td>0</td>\n      <td>35</td>\n      <td>10 ЛЕТ СПУСТЯ</td>\n      <td>40</td>\n      <td>Кино - DVD</td>\n      <td>!Якутск Орджоникидзе, 56 фран</td>\n      <td>1</td>\n      <td>2013</td>\n      <td>1</td>\n      <td>1.0</td>\n      <td>247.0</td>\n      <td>Якутск</td>\n      <td>Кино</td>\n      <td>DVD</td>\n      <td>NaN</td>\n    </tr>\n  </tbody>\n</table>\n</div>"
     },
     "metadata": {},
     "execution_count": 7
    }
   ],
   "source": [
    "data_monthly = pd.merge(data_monthly, data_lag, on=['date_block_num','shop_id','item_id'], how='left')\n",
    "data_monthly.head()"
   ]
  },
  {
   "cell_type": "code",
   "execution_count": 10,
   "metadata": {},
   "outputs": [
    {
     "output_type": "execute_result",
     "data": {
      "text/plain": "       date_block_num  shop_id  item_id                        item_name  \\\n93463               1        0       30       007: КООРДИНАТЫ «СКАЙФОЛЛ»   \n93464               1        0       31  007: КООРДИНАТЫ «СКАЙФОЛЛ» (BD)   \n93465               1        0       32                              1+1   \n93466               1        0       32                              1+1   \n93467               1        0       32                              1+1   \n\n       item_category_id item_category_name                      shop_name  \\\n93463                40         Кино - DVD  !Якутск Орджоникидзе, 56 фран   \n93464                37     Кино - Blu-Ray  !Якутск Орджоникидзе, 56 фран   \n93465                40         Кино - DVD  !Якутск Орджоникидзе, 56 фран   \n93466                40         Кино - DVD  !Якутск Орджоникидзе, 56 фран   \n93467                40         Кино - DVD  !Якутск Орджоникидзе, 56 фран   \n\n       month  year  order_cnt  item_cnt  item_mean_price    city category  \\\n93463      2  2013          9      31.0            265.0  Якутск     Кино   \n93464      2  2013          7      11.0            434.0  Якутск     Кино   \n93465      2  2013          4       6.0            221.0  Якутск     Кино   \n93466      2  2013          4       6.0            221.0  Якутск     Кино   \n93467      5  2013          1       1.0            221.0  Якутск     Кино   \n\n      subcategory  item_cnt_lag  \n93463         DVD           NaN  \n93464         Blu           NaN  \n93465         DVD           4.0  \n93466         DVD           2.0  \n93467         DVD           4.0  ",
      "text/html": "<div>\n<style scoped>\n    .dataframe tbody tr th:only-of-type {\n        vertical-align: middle;\n    }\n\n    .dataframe tbody tr th {\n        vertical-align: top;\n    }\n\n    .dataframe thead th {\n        text-align: right;\n    }\n</style>\n<table border=\"1\" class=\"dataframe\">\n  <thead>\n    <tr style=\"text-align: right;\">\n      <th></th>\n      <th>date_block_num</th>\n      <th>shop_id</th>\n      <th>item_id</th>\n      <th>item_name</th>\n      <th>item_category_id</th>\n      <th>item_category_name</th>\n      <th>shop_name</th>\n      <th>month</th>\n      <th>year</th>\n      <th>order_cnt</th>\n      <th>item_cnt</th>\n      <th>item_mean_price</th>\n      <th>city</th>\n      <th>category</th>\n      <th>subcategory</th>\n      <th>item_cnt_lag</th>\n    </tr>\n  </thead>\n  <tbody>\n    <tr>\n      <th>93463</th>\n      <td>1</td>\n      <td>0</td>\n      <td>30</td>\n      <td>007: КООРДИНАТЫ «СКАЙФОЛЛ»</td>\n      <td>40</td>\n      <td>Кино - DVD</td>\n      <td>!Якутск Орджоникидзе, 56 фран</td>\n      <td>2</td>\n      <td>2013</td>\n      <td>9</td>\n      <td>31.0</td>\n      <td>265.0</td>\n      <td>Якутск</td>\n      <td>Кино</td>\n      <td>DVD</td>\n      <td>NaN</td>\n    </tr>\n    <tr>\n      <th>93464</th>\n      <td>1</td>\n      <td>0</td>\n      <td>31</td>\n      <td>007: КООРДИНАТЫ «СКАЙФОЛЛ» (BD)</td>\n      <td>37</td>\n      <td>Кино - Blu-Ray</td>\n      <td>!Якутск Орджоникидзе, 56 фран</td>\n      <td>2</td>\n      <td>2013</td>\n      <td>7</td>\n      <td>11.0</td>\n      <td>434.0</td>\n      <td>Якутск</td>\n      <td>Кино</td>\n      <td>Blu</td>\n      <td>NaN</td>\n    </tr>\n    <tr>\n      <th>93465</th>\n      <td>1</td>\n      <td>0</td>\n      <td>32</td>\n      <td>1+1</td>\n      <td>40</td>\n      <td>Кино - DVD</td>\n      <td>!Якутск Орджоникидзе, 56 фран</td>\n      <td>2</td>\n      <td>2013</td>\n      <td>4</td>\n      <td>6.0</td>\n      <td>221.0</td>\n      <td>Якутск</td>\n      <td>Кино</td>\n      <td>DVD</td>\n      <td>4.0</td>\n    </tr>\n    <tr>\n      <th>93466</th>\n      <td>1</td>\n      <td>0</td>\n      <td>32</td>\n      <td>1+1</td>\n      <td>40</td>\n      <td>Кино - DVD</td>\n      <td>!Якутск Орджоникидзе, 56 фран</td>\n      <td>2</td>\n      <td>2013</td>\n      <td>4</td>\n      <td>6.0</td>\n      <td>221.0</td>\n      <td>Якутск</td>\n      <td>Кино</td>\n      <td>DVD</td>\n      <td>2.0</td>\n    </tr>\n    <tr>\n      <th>93467</th>\n      <td>1</td>\n      <td>0</td>\n      <td>32</td>\n      <td>1+1</td>\n      <td>40</td>\n      <td>Кино - DVD</td>\n      <td>!Якутск Орджоникидзе, 56 фран</td>\n      <td>5</td>\n      <td>2013</td>\n      <td>1</td>\n      <td>1.0</td>\n      <td>221.0</td>\n      <td>Якутск</td>\n      <td>Кино</td>\n      <td>DVD</td>\n      <td>4.0</td>\n    </tr>\n  </tbody>\n</table>\n</div>"
     },
     "metadata": {},
     "execution_count": 10
    }
   ],
   "source": [
    "data_monthly_lagged = data_monthly.loc[data_monthly.date_block_num > 0]\n",
    "data_monthly_lagged.head()"
   ]
  },
  {
   "cell_type": "code",
   "execution_count": 13,
   "metadata": {},
   "outputs": [
    {
     "output_type": "execute_result",
     "data": {
      "text/plain": "date_block_num              0\nshop_id                     0\nitem_id                     0\nitem_name                   0\nitem_category_id            0\nitem_category_name          0\nshop_name                   0\nmonth                       0\nyear                        0\norder_cnt                   0\nitem_cnt                    0\nitem_mean_price             0\ncity                        0\ncategory                    0\nsubcategory                 0\nitem_cnt_lag          1016880\ndtype: int64"
     },
     "metadata": {},
     "execution_count": 13
    }
   ],
   "source": [
    "data_monthly_lagged.isna().sum()"
   ]
  },
  {
   "cell_type": "code",
   "execution_count": 11,
   "metadata": {},
   "outputs": [],
   "source": [
    "data_monthly_lagged = data_monthly_lagged.fillna(0)"
   ]
  },
  {
   "cell_type": "code",
   "execution_count": 12,
   "metadata": {},
   "outputs": [
    {
     "output_type": "execute_result",
     "data": {
      "text/plain": "       date_block_num  shop_id  item_id                        item_name  \\\n93463               1        0       30       007: КООРДИНАТЫ «СКАЙФОЛЛ»   \n93464               1        0       31  007: КООРДИНАТЫ «СКАЙФОЛЛ» (BD)   \n93465               1        0       32                              1+1   \n93466               1        0       32                              1+1   \n93467               1        0       32                              1+1   \n\n       item_category_id item_category_name                      shop_name  \\\n93463                40         Кино - DVD  !Якутск Орджоникидзе, 56 фран   \n93464                37     Кино - Blu-Ray  !Якутск Орджоникидзе, 56 фран   \n93465                40         Кино - DVD  !Якутск Орджоникидзе, 56 фран   \n93466                40         Кино - DVD  !Якутск Орджоникидзе, 56 фран   \n93467                40         Кино - DVD  !Якутск Орджоникидзе, 56 фран   \n\n       month  year  order_cnt  item_cnt  item_mean_price    city category  \\\n93463      2  2013          9      31.0            265.0  Якутск     Кино   \n93464      2  2013          7      11.0            434.0  Якутск     Кино   \n93465      2  2013          4       6.0            221.0  Якутск     Кино   \n93466      2  2013          4       6.0            221.0  Якутск     Кино   \n93467      5  2013          1       1.0            221.0  Якутск     Кино   \n\n      subcategory  item_cnt_lag  \n93463         DVD           0.0  \n93464         Blu           0.0  \n93465         DVD           4.0  \n93466         DVD           2.0  \n93467         DVD           4.0  ",
      "text/html": "<div>\n<style scoped>\n    .dataframe tbody tr th:only-of-type {\n        vertical-align: middle;\n    }\n\n    .dataframe tbody tr th {\n        vertical-align: top;\n    }\n\n    .dataframe thead th {\n        text-align: right;\n    }\n</style>\n<table border=\"1\" class=\"dataframe\">\n  <thead>\n    <tr style=\"text-align: right;\">\n      <th></th>\n      <th>date_block_num</th>\n      <th>shop_id</th>\n      <th>item_id</th>\n      <th>item_name</th>\n      <th>item_category_id</th>\n      <th>item_category_name</th>\n      <th>shop_name</th>\n      <th>month</th>\n      <th>year</th>\n      <th>order_cnt</th>\n      <th>item_cnt</th>\n      <th>item_mean_price</th>\n      <th>city</th>\n      <th>category</th>\n      <th>subcategory</th>\n      <th>item_cnt_lag</th>\n    </tr>\n  </thead>\n  <tbody>\n    <tr>\n      <th>93463</th>\n      <td>1</td>\n      <td>0</td>\n      <td>30</td>\n      <td>007: КООРДИНАТЫ «СКАЙФОЛЛ»</td>\n      <td>40</td>\n      <td>Кино - DVD</td>\n      <td>!Якутск Орджоникидзе, 56 фран</td>\n      <td>2</td>\n      <td>2013</td>\n      <td>9</td>\n      <td>31.0</td>\n      <td>265.0</td>\n      <td>Якутск</td>\n      <td>Кино</td>\n      <td>DVD</td>\n      <td>0.0</td>\n    </tr>\n    <tr>\n      <th>93464</th>\n      <td>1</td>\n      <td>0</td>\n      <td>31</td>\n      <td>007: КООРДИНАТЫ «СКАЙФОЛЛ» (BD)</td>\n      <td>37</td>\n      <td>Кино - Blu-Ray</td>\n      <td>!Якутск Орджоникидзе, 56 фран</td>\n      <td>2</td>\n      <td>2013</td>\n      <td>7</td>\n      <td>11.0</td>\n      <td>434.0</td>\n      <td>Якутск</td>\n      <td>Кино</td>\n      <td>Blu</td>\n      <td>0.0</td>\n    </tr>\n    <tr>\n      <th>93465</th>\n      <td>1</td>\n      <td>0</td>\n      <td>32</td>\n      <td>1+1</td>\n      <td>40</td>\n      <td>Кино - DVD</td>\n      <td>!Якутск Орджоникидзе, 56 фран</td>\n      <td>2</td>\n      <td>2013</td>\n      <td>4</td>\n      <td>6.0</td>\n      <td>221.0</td>\n      <td>Якутск</td>\n      <td>Кино</td>\n      <td>DVD</td>\n      <td>4.0</td>\n    </tr>\n    <tr>\n      <th>93466</th>\n      <td>1</td>\n      <td>0</td>\n      <td>32</td>\n      <td>1+1</td>\n      <td>40</td>\n      <td>Кино - DVD</td>\n      <td>!Якутск Орджоникидзе, 56 фран</td>\n      <td>2</td>\n      <td>2013</td>\n      <td>4</td>\n      <td>6.0</td>\n      <td>221.0</td>\n      <td>Якутск</td>\n      <td>Кино</td>\n      <td>DVD</td>\n      <td>2.0</td>\n    </tr>\n    <tr>\n      <th>93467</th>\n      <td>1</td>\n      <td>0</td>\n      <td>32</td>\n      <td>1+1</td>\n      <td>40</td>\n      <td>Кино - DVD</td>\n      <td>!Якутск Орджоникидзе, 56 фран</td>\n      <td>5</td>\n      <td>2013</td>\n      <td>1</td>\n      <td>1.0</td>\n      <td>221.0</td>\n      <td>Якутск</td>\n      <td>Кино</td>\n      <td>DVD</td>\n      <td>4.0</td>\n    </tr>\n  </tbody>\n</table>\n</div>"
     },
     "metadata": {},
     "execution_count": 12
    }
   ],
   "source": [
    "data_monthly_lagged.head()"
   ]
  },
  {
   "cell_type": "markdown",
   "metadata": {},
   "source": [
    "### target encoding\n",
    "Here using expanding mean"
   ]
  },
  {
   "cell_type": "code",
   "execution_count": 29,
   "metadata": {},
   "outputs": [],
   "source": [
    "# train/val split\n",
    "features = ['item_cnt_lag', 'month', 'year', 'item_mean_price', 'city', 'category', 'subcategory', 'shop_id', 'item_id', 'item_cnt']\n",
    "train_X = data_monthly_lagged.loc[data_monthly_lagged.date_block_num < 33][features[:-1]]\n",
    "train_y = data_monthly_lagged.loc[data_monthly_lagged.date_block_num < 33][features[-1]].values\n",
    "val_X = data_monthly_lagged.loc[data_monthly_lagged.date_block_num == 33][features[:-1]]\n",
    "val_y = data_monthly_lagged.loc[data_monthly_lagged.date_block_num == 33][features[-1]].values"
   ]
  },
  {
   "cell_type": "code",
   "execution_count": 30,
   "metadata": {},
   "outputs": [
    {
     "output_type": "execute_result",
     "data": {
      "text/plain": "       item_cnt_lag  month  year  item_mean_price    city category  \\\n93463           0.0      2  2013            265.0  Якутск     Кино   \n93464           0.0      2  2013            434.0  Якутск     Кино   \n93465           4.0      2  2013            221.0  Якутск     Кино   \n93466           2.0      2  2013            221.0  Якутск     Кино   \n93467           4.0      5  2013            221.0  Якутск     Кино   \n\n      subcategory  shop_id  item_id  \n93463         DVD        0       30  \n93464         Blu        0       31  \n93465         DVD        0       32  \n93466         DVD        0       32  \n93467         DVD        0       32  ",
      "text/html": "<div>\n<style scoped>\n    .dataframe tbody tr th:only-of-type {\n        vertical-align: middle;\n    }\n\n    .dataframe tbody tr th {\n        vertical-align: top;\n    }\n\n    .dataframe thead th {\n        text-align: right;\n    }\n</style>\n<table border=\"1\" class=\"dataframe\">\n  <thead>\n    <tr style=\"text-align: right;\">\n      <th></th>\n      <th>item_cnt_lag</th>\n      <th>month</th>\n      <th>year</th>\n      <th>item_mean_price</th>\n      <th>city</th>\n      <th>category</th>\n      <th>subcategory</th>\n      <th>shop_id</th>\n      <th>item_id</th>\n    </tr>\n  </thead>\n  <tbody>\n    <tr>\n      <th>93463</th>\n      <td>0.0</td>\n      <td>2</td>\n      <td>2013</td>\n      <td>265.0</td>\n      <td>Якутск</td>\n      <td>Кино</td>\n      <td>DVD</td>\n      <td>0</td>\n      <td>30</td>\n    </tr>\n    <tr>\n      <th>93464</th>\n      <td>0.0</td>\n      <td>2</td>\n      <td>2013</td>\n      <td>434.0</td>\n      <td>Якутск</td>\n      <td>Кино</td>\n      <td>Blu</td>\n      <td>0</td>\n      <td>31</td>\n    </tr>\n    <tr>\n      <th>93465</th>\n      <td>4.0</td>\n      <td>2</td>\n      <td>2013</td>\n      <td>221.0</td>\n      <td>Якутск</td>\n      <td>Кино</td>\n      <td>DVD</td>\n      <td>0</td>\n      <td>32</td>\n    </tr>\n    <tr>\n      <th>93466</th>\n      <td>2.0</td>\n      <td>2</td>\n      <td>2013</td>\n      <td>221.0</td>\n      <td>Якутск</td>\n      <td>Кино</td>\n      <td>DVD</td>\n      <td>0</td>\n      <td>32</td>\n    </tr>\n    <tr>\n      <th>93467</th>\n      <td>4.0</td>\n      <td>5</td>\n      <td>2013</td>\n      <td>221.0</td>\n      <td>Якутск</td>\n      <td>Кино</td>\n      <td>DVD</td>\n      <td>0</td>\n      <td>32</td>\n    </tr>\n  </tbody>\n</table>\n</div>"
     },
     "metadata": {},
     "execution_count": 30
    }
   ],
   "source": [
    "train_X.head()"
   ]
  },
  {
   "cell_type": "code",
   "execution_count": 31,
   "metadata": {},
   "outputs": [],
   "source": [
    "train_mean = train_y.mean()"
   ]
  },
  {
   "cell_type": "code",
   "execution_count": 32,
   "metadata": {},
   "outputs": [
    {
     "output_type": "execute_result",
     "data": {
      "text/plain": "   item_cnt_lag  month  year  item_mean_price    city   category  \\\n0           0.0     10  2015            399.0  Адыгея       Кино   \n1           1.0      4  2015            300.0  Адыгея  Программы   \n2           1.0     10  2015            300.0  Адыгея  Программы   \n3           0.0     10  2015            420.0  Адыгея      Книги   \n4           0.0      4  2015           3300.0  Адыгея  Программы   \n\n                 subcategory  shop_id  item_id  city_encoded  \\\n0                        Blu        2       31      1.874067   \n1           1С:Предприятие 8        2      486      1.874067   \n2           1С:Предприятие 8        2      486      1.874067   \n3  Методические материалы 1С        2      787      1.874067   \n4           1С:Предприятие 8        2      794      1.874067   \n\n   category_encoded  subcategory_encoded  shop_id_encoded  item_id_encoded  \n0          1.456171             1.259678         1.874067         1.852427  \n1          2.204295             2.022894         1.874067         2.567901  \n2          2.204295             2.022894         1.874067         2.567901  \n3          1.641077             1.774115         1.874067         2.039216  \n4          2.204295             2.022894         1.874067         1.294118  ",
      "text/html": "<div>\n<style scoped>\n    .dataframe tbody tr th:only-of-type {\n        vertical-align: middle;\n    }\n\n    .dataframe tbody tr th {\n        vertical-align: top;\n    }\n\n    .dataframe thead th {\n        text-align: right;\n    }\n</style>\n<table border=\"1\" class=\"dataframe\">\n  <thead>\n    <tr style=\"text-align: right;\">\n      <th></th>\n      <th>item_cnt_lag</th>\n      <th>month</th>\n      <th>year</th>\n      <th>item_mean_price</th>\n      <th>city</th>\n      <th>category</th>\n      <th>subcategory</th>\n      <th>shop_id</th>\n      <th>item_id</th>\n      <th>city_encoded</th>\n      <th>category_encoded</th>\n      <th>subcategory_encoded</th>\n      <th>shop_id_encoded</th>\n      <th>item_id_encoded</th>\n    </tr>\n  </thead>\n  <tbody>\n    <tr>\n      <th>0</th>\n      <td>0.0</td>\n      <td>10</td>\n      <td>2015</td>\n      <td>399.0</td>\n      <td>Адыгея</td>\n      <td>Кино</td>\n      <td>Blu</td>\n      <td>2</td>\n      <td>31</td>\n      <td>1.874067</td>\n      <td>1.456171</td>\n      <td>1.259678</td>\n      <td>1.874067</td>\n      <td>1.852427</td>\n    </tr>\n    <tr>\n      <th>1</th>\n      <td>1.0</td>\n      <td>4</td>\n      <td>2015</td>\n      <td>300.0</td>\n      <td>Адыгея</td>\n      <td>Программы</td>\n      <td>1С:Предприятие 8</td>\n      <td>2</td>\n      <td>486</td>\n      <td>1.874067</td>\n      <td>2.204295</td>\n      <td>2.022894</td>\n      <td>1.874067</td>\n      <td>2.567901</td>\n    </tr>\n    <tr>\n      <th>2</th>\n      <td>1.0</td>\n      <td>10</td>\n      <td>2015</td>\n      <td>300.0</td>\n      <td>Адыгея</td>\n      <td>Программы</td>\n      <td>1С:Предприятие 8</td>\n      <td>2</td>\n      <td>486</td>\n      <td>1.874067</td>\n      <td>2.204295</td>\n      <td>2.022894</td>\n      <td>1.874067</td>\n      <td>2.567901</td>\n    </tr>\n    <tr>\n      <th>3</th>\n      <td>0.0</td>\n      <td>10</td>\n      <td>2015</td>\n      <td>420.0</td>\n      <td>Адыгея</td>\n      <td>Книги</td>\n      <td>Методические материалы 1С</td>\n      <td>2</td>\n      <td>787</td>\n      <td>1.874067</td>\n      <td>1.641077</td>\n      <td>1.774115</td>\n      <td>1.874067</td>\n      <td>2.039216</td>\n    </tr>\n    <tr>\n      <th>4</th>\n      <td>0.0</td>\n      <td>4</td>\n      <td>2015</td>\n      <td>3300.0</td>\n      <td>Адыгея</td>\n      <td>Программы</td>\n      <td>1С:Предприятие 8</td>\n      <td>2</td>\n      <td>794</td>\n      <td>1.874067</td>\n      <td>2.204295</td>\n      <td>2.022894</td>\n      <td>1.874067</td>\n      <td>1.294118</td>\n    </tr>\n  </tbody>\n</table>\n</div>"
     },
     "metadata": {},
     "execution_count": 32
    }
   ],
   "source": [
    "# encode on train_X and map to val_X\n",
    "columns_encode = ['city', 'category', 'subcategory', 'shop_id', 'item_id']\n",
    "for col in columns_encode:\n",
    "    encoded = data_monthly_lagged.loc[data_monthly_lagged.date_block_num < 33][[col, 'item_cnt']].groupby(col).agg(**{col+'_encoded': ('item_cnt', 'mean')}).reset_index()\n",
    "    val_X = pd.merge(val_X, encoded, on=col, how='left')\n",
    "val_X.head()"
   ]
  },
  {
   "cell_type": "code",
   "execution_count": 33,
   "metadata": {},
   "outputs": [],
   "source": [
    "val_X = val_X.fillna(train_mean)"
   ]
  },
  {
   "cell_type": "code",
   "execution_count": 34,
   "metadata": {},
   "outputs": [
    {
     "output_type": "execute_result",
     "data": {
      "text/plain": "2.3503225446150804"
     },
     "metadata": {},
     "execution_count": 34
    }
   ],
   "source": [
    "train_mean"
   ]
  },
  {
   "cell_type": "code",
   "execution_count": 35,
   "metadata": {},
   "outputs": [
    {
     "output_type": "execute_result",
     "data": {
      "text/plain": "       item_cnt_lag  month  year  item_mean_price    city category  \\\n93463           0.0      2  2013            265.0  Якутск     Кино   \n93464           0.0      2  2013            434.0  Якутск     Кино   \n93465           4.0      2  2013            221.0  Якутск     Кино   \n93466           2.0      2  2013            221.0  Якутск     Кино   \n93467           4.0      5  2013            221.0  Якутск     Кино   \n\n      subcategory  shop_id  item_id  city_encoded  category_encoded  \\\n93463         DVD        0       30      2.350323          2.350323   \n93464         Blu        0       31     31.000000         31.000000   \n93465         DVD        0       32     21.000000         21.000000   \n93466         DVD        0       32     16.000000         16.000000   \n93467         DVD        0       32     13.500000         13.500000   \n\n       subcategory_encoded  shop_id_encoded  item_id_encoded  \n93463             2.350323         2.350323         2.350323  \n93464             2.350323        31.000000         2.350323  \n93465            31.000000        21.000000         2.350323  \n93466            18.500000        16.000000         6.000000  \n93467            14.333333        13.500000         6.000000  ",
      "text/html": "<div>\n<style scoped>\n    .dataframe tbody tr th:only-of-type {\n        vertical-align: middle;\n    }\n\n    .dataframe tbody tr th {\n        vertical-align: top;\n    }\n\n    .dataframe thead th {\n        text-align: right;\n    }\n</style>\n<table border=\"1\" class=\"dataframe\">\n  <thead>\n    <tr style=\"text-align: right;\">\n      <th></th>\n      <th>item_cnt_lag</th>\n      <th>month</th>\n      <th>year</th>\n      <th>item_mean_price</th>\n      <th>city</th>\n      <th>category</th>\n      <th>subcategory</th>\n      <th>shop_id</th>\n      <th>item_id</th>\n      <th>city_encoded</th>\n      <th>category_encoded</th>\n      <th>subcategory_encoded</th>\n      <th>shop_id_encoded</th>\n      <th>item_id_encoded</th>\n    </tr>\n  </thead>\n  <tbody>\n    <tr>\n      <th>93463</th>\n      <td>0.0</td>\n      <td>2</td>\n      <td>2013</td>\n      <td>265.0</td>\n      <td>Якутск</td>\n      <td>Кино</td>\n      <td>DVD</td>\n      <td>0</td>\n      <td>30</td>\n      <td>2.350323</td>\n      <td>2.350323</td>\n      <td>2.350323</td>\n      <td>2.350323</td>\n      <td>2.350323</td>\n    </tr>\n    <tr>\n      <th>93464</th>\n      <td>0.0</td>\n      <td>2</td>\n      <td>2013</td>\n      <td>434.0</td>\n      <td>Якутск</td>\n      <td>Кино</td>\n      <td>Blu</td>\n      <td>0</td>\n      <td>31</td>\n      <td>31.000000</td>\n      <td>31.000000</td>\n      <td>2.350323</td>\n      <td>31.000000</td>\n      <td>2.350323</td>\n    </tr>\n    <tr>\n      <th>93465</th>\n      <td>4.0</td>\n      <td>2</td>\n      <td>2013</td>\n      <td>221.0</td>\n      <td>Якутск</td>\n      <td>Кино</td>\n      <td>DVD</td>\n      <td>0</td>\n      <td>32</td>\n      <td>21.000000</td>\n      <td>21.000000</td>\n      <td>31.000000</td>\n      <td>21.000000</td>\n      <td>2.350323</td>\n    </tr>\n    <tr>\n      <th>93466</th>\n      <td>2.0</td>\n      <td>2</td>\n      <td>2013</td>\n      <td>221.0</td>\n      <td>Якутск</td>\n      <td>Кино</td>\n      <td>DVD</td>\n      <td>0</td>\n      <td>32</td>\n      <td>16.000000</td>\n      <td>16.000000</td>\n      <td>18.500000</td>\n      <td>16.000000</td>\n      <td>6.000000</td>\n    </tr>\n    <tr>\n      <th>93467</th>\n      <td>4.0</td>\n      <td>5</td>\n      <td>2013</td>\n      <td>221.0</td>\n      <td>Якутск</td>\n      <td>Кино</td>\n      <td>DVD</td>\n      <td>0</td>\n      <td>32</td>\n      <td>13.500000</td>\n      <td>13.500000</td>\n      <td>14.333333</td>\n      <td>13.500000</td>\n      <td>6.000000</td>\n    </tr>\n  </tbody>\n</table>\n</div>"
     },
     "metadata": {},
     "execution_count": 35
    }
   ],
   "source": [
    "# regularize train_X\n",
    "columns_encode = ['city', 'category', 'subcategory', 'shop_id', 'item_id']\n",
    "train_data = data_monthly_lagged.loc[data_monthly_lagged.date_block_num < 33]\n",
    "for col in columns_encode:\n",
    "    cumsum = train_data.groupby(col)['item_cnt'].cumsum() - train_data['item_cnt']\n",
    "    cumcnt = train_data.groupby(col).cumcount()\n",
    "    train_X[col+'_encoded']= cumsum/cumcnt\n",
    "train_X = train_X.fillna(train_mean)\n",
    "train_X.head()"
   ]
  },
  {
   "cell_type": "code",
   "execution_count": 36,
   "metadata": {
    "tags": []
   },
   "outputs": [
    {
     "output_type": "stream",
     "name": "stdout",
     "text": "Stored 'train_X' (DataFrame)\nStored 'train_y' (ndarray)\nStored 'val_X' (DataFrame)\nStored 'val_y' (ndarray)\nStored 'data_monthly_lagged' (DataFrame)\nStored 'test' (DataFrame)\nStored 'shops' (DataFrame)\nStored 'items' (DataFrame)\nStored 'item_categories' (DataFrame)\n"
    }
   ],
   "source": [
    "%store train_X train_y val_X val_y data_monthly_lagged test shops items item_categories"
   ]
  },
  {
   "cell_type": "markdown",
   "metadata": {},
   "source": [
    "### xgboost"
   ]
  },
  {
   "cell_type": "code",
   "execution_count": null,
   "metadata": {},
   "outputs": [],
   "source": [
    "% store -r"
   ]
  },
  {
   "cell_type": "code",
   "execution_count": 28,
   "metadata": {},
   "outputs": [],
   "source": [
    "import xgboost as xgb"
   ]
  },
  {
   "cell_type": "code",
   "execution_count": 37,
   "metadata": {},
   "outputs": [],
   "source": [
    "dtrain = xgb.DMatrix(train_X[['city_encoded', 'category_encoded', 'subcategory_encoded', 'shop_id_encoded', 'item_id_encoded', 'item_cnt_lag', 'month', 'year', 'item_mean_price']].values, label=train_y)\n",
    "dval = xgb.DMatrix(val_X[['city_encoded', 'category_encoded', 'subcategory_encoded', 'shop_id_encoded', 'item_id_encoded', 'item_cnt_lag', 'month', 'year', 'item_mean_price']].values, label=val_y)"
   ]
  },
  {
   "cell_type": "code",
   "execution_count": 38,
   "metadata": {},
   "outputs": [],
   "source": [
    "param = {'max_depth': 10, 'eta': 0.1, 'nthread': 4, 'seed': 2020, 'objective': 'reg:squarederror', 'early_stopping_rounds': 100}\n",
    "evallist = [(dval, 'eval'), (dtrain, 'train')]"
   ]
  },
  {
   "cell_type": "code",
   "execution_count": 39,
   "metadata": {
    "tags": []
   },
   "outputs": [
    {
     "output_type": "stream",
     "name": "stdout",
     "text": "[0]\teval-rmse:28.2952\ttrain-rmse:11.1264\n[1]\teval-rmse:28.4272\ttrain-rmse:10.6662\n[2]\teval-rmse:28.3579\ttrain-rmse:10.2668\n[3]\teval-rmse:28.5626\ttrain-rmse:9.9233\n[4]\teval-rmse:28.7501\ttrain-rmse:9.61927\n[5]\teval-rmse:28.7235\ttrain-rmse:9.36243\n[6]\teval-rmse:28.7238\ttrain-rmse:9.1206\n[7]\teval-rmse:28.7092\ttrain-rmse:8.90513\n[8]\teval-rmse:28.7062\ttrain-rmse:8.7223\n[9]\teval-rmse:28.719\ttrain-rmse:8.55874\n[10]\teval-rmse:28.7302\ttrain-rmse:8.37068\n[11]\teval-rmse:28.7614\ttrain-rmse:8.19898\n[12]\teval-rmse:28.7728\ttrain-rmse:8.03428\n[13]\teval-rmse:28.7895\ttrain-rmse:7.93008\n[14]\teval-rmse:28.7879\ttrain-rmse:7.81357\n[15]\teval-rmse:28.8108\ttrain-rmse:7.66384\n[16]\teval-rmse:28.9605\ttrain-rmse:7.53143\n[17]\teval-rmse:28.9595\ttrain-rmse:7.42112\n[18]\teval-rmse:28.9593\ttrain-rmse:7.35026\n[19]\teval-rmse:28.9475\ttrain-rmse:7.23194\n"
    }
   ],
   "source": [
    "num_round = 20\n",
    "bst = xgb.train(param, dtrain, num_round, evallist)"
   ]
  },
  {
   "cell_type": "code",
   "execution_count": 40,
   "metadata": {},
   "outputs": [
    {
     "output_type": "execute_result",
     "data": {
      "text/plain": "15.530080948938716"
     },
     "metadata": {},
     "execution_count": 40
    }
   ],
   "source": [
    "np.sqrt(((train_X['item_cnt_lag'].values-train_y)**2).mean())"
   ]
  },
  {
   "cell_type": "code",
   "execution_count": 41,
   "metadata": {},
   "outputs": [
    {
     "output_type": "execute_result",
     "data": {
      "text/plain": "29.005139565736513"
     },
     "metadata": {},
     "execution_count": 41
    }
   ],
   "source": [
    "np.sqrt(((val_X['item_cnt_lag'].values-val_y)**2).mean())"
   ]
  },
  {
   "cell_type": "markdown",
   "metadata": {},
   "source": [
    "#### Outliers!!!\n",
    "We need to deal with outliers to reduce rmse"
   ]
  },
  {
   "cell_type": "code",
   "execution_count": null,
   "metadata": {},
   "outputs": [],
   "source": []
  }
 ],
 "metadata": {
  "kernelspec": {
   "display_name": "Python 3.7.3 64-bit ('base': conda)",
   "language": "python",
   "name": "python_defaultSpec_1594762511874"
  },
  "language_info": {
   "codemirror_mode": {
    "name": "ipython",
    "version": 3
   },
   "file_extension": ".py",
   "mimetype": "text/x-python",
   "name": "python",
   "nbconvert_exporter": "python",
   "pygments_lexer": "ipython3",
   "version": "3.7.3-final"
  }
 },
 "nbformat": 4,
 "nbformat_minor": 4
}