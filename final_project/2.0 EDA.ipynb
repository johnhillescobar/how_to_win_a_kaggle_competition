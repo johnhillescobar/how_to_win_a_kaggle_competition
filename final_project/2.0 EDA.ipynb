{
 "cells": [
  {
   "cell_type": "code",
   "execution_count": null,
   "metadata": {},
   "outputs": [],
   "source": []
  },
  {
   "cell_type": "code",
   "execution_count": 1,
   "metadata": {},
   "outputs": [],
   "source": [
    "import pandas as pd\n",
    "import numpy as np\n",
    "import matplotlib.pyplot as plt\n",
    "import matplotlib\n",
    "from IPython.core.interactiveshell import InteractiveShell\n",
    "import zipfile\n",
    "import os\n",
    "\n",
    "%matplotlib inline"
   ]
  },
  {
   "cell_type": "code",
   "execution_count": null,
   "metadata": {},
   "outputs": [],
   "source": []
  },
  {
   "cell_type": "code",
   "execution_count": 2,
   "metadata": {},
   "outputs": [],
   "source": [
    "# os.getcwd()"
   ]
  },
  {
   "cell_type": "markdown",
   "metadata": {},
   "source": [
    "## Files: reading"
   ]
  },
  {
   "cell_type": "markdown",
   "metadata": {},
   "source": [
    "There are 5 files associated with this project. They will be read directly from the zip file they are in."
   ]
  },
  {
   "cell_type": "code",
   "execution_count": 3,
   "metadata": {},
   "outputs": [],
   "source": [
    "zf = zipfile.ZipFile('competitive-data-science-predict-future-sales.zip') "
   ]
  },
  {
   "cell_type": "code",
   "execution_count": 4,
   "metadata": {},
   "outputs": [],
   "source": [
    "# Read items\n",
    "items = pd.read_csv(zf.open('items.csv'))\n",
    "\n",
    "# Read sales train\n",
    "sales_train = pd.read_csv(zf.open('sales_train.csv'))\n",
    "sales_train['date'] = pd.to_datetime(sales_train['date'], format= '%d.%m.%Y')\n",
    "sales_train['revenue'] = sales_train['item_price']*sales_train['item_cnt_day']\n",
    "\n",
    "# Read item categories\n",
    "item_categories = pd.read_csv(zf.open('item_categories.csv'))\n",
    "\n",
    "# Read shops\n",
    "shops = pd.read_csv(zf.open('shops.csv'))\n",
    "\n",
    "# Read test\n",
    "test = pd.read_csv(zf.open('test.csv'))\n"
   ]
  },
  {
   "cell_type": "markdown",
   "metadata": {},
   "source": [
    "## Files: schema"
   ]
  },
  {
   "cell_type": "markdown",
   "metadata": {},
   "source": [
    "Files associated with this competition are presented on this order:\n",
    "1. **Training data sets:**<br>\n",
    "   1.1. sales_train<br>\n",
    "   1.2. shops<br>\n",
    "   1.3. items<br>\n",
    "   1.4. item_category<br>\n",
    "   \n",
    "2. **Test data sets:**<br>\n",
    "   2.1. test_train<br>\n",
    "   2.2. sample submission<br>\n",
    "  \n",
    "A quick analysis of the tables' schema names raise the following questions:\n",
    "  1. __Are all the features across the training sets reasonably feasible?__<br>\n",
    "  2. __Is it a pricing model?__<br>\n",
    "  3. __If so, what is the right approach to the training info?__<br>\n",
    "     3.1 __Is a TSA approach the right one?__<br>\n",
    "     3.2 __Is an optimization approach the right one?__<br>\n",
    "     3.3 __or, a standard ML approach can provide a good answer, instead?__<br>\n",
    "     \n",
    "From our 1.0 Read Data file we found out that the language used on the features item_name, shop_name, and item_category_name is Russian.  We could translate some of it via \"import googletrans\", but it would take days given the 150 translations/day cap, meaning that getting those translation alone would take almost a month.  Therefore, only sales_train and items dataframes are necessary to create our initial train data set.\n",
    "\n",
    "See the graphic below:\n"
   ]
  },
  {
   "cell_type": "markdown",
   "metadata": {},
   "source": [
    "<img src=\"schema.png\" width=\"600\" height=\"600\" align=\"center\"/>"
   ]
  },
  {
   "cell_type": "code",
   "execution_count": 7,
   "metadata": {},
   "outputs": [
    {
     "name": "stdout",
     "output_type": "stream",
     "text": [
      "This is the number:  0\n",
      "This is the number:  1\n",
      "This is the number:  2\n",
      "This is the number:  3\n",
      "This is the number:  4\n",
      "This is the number:  5\n",
      "This is the number:  6\n",
      "This is the number:  7\n",
      "This is the number:  8\n",
      "This is the number:  9\n",
      "This is the number:  10\n",
      "This is the number:  11\n",
      "This is the number:  12\n",
      "This is the number:  13\n",
      "This is the number:  14\n",
      "This is the number:  15\n",
      "This is the number:  16\n",
      "This is the number:  17\n",
      "This is the number:  18\n",
      "This is the number:  19\n",
      "This is the number:  20\n",
      "This is the number:  21\n",
      "This is the number:  22\n",
      "This is the number:  23\n",
      "This is the number:  24\n",
      "This is the number:  25\n",
      "This is the number:  26\n",
      "This is the number:  27\n",
      "This is the number:  28\n",
      "This is the number:  29\n",
      "This is the number:  30\n",
      "This is the number:  31\n",
      "This is the number:  32\n",
      "This is the number:  33\n",
      "This is the number:  34\n",
      "This is the number:  35\n",
      "This is the number:  36\n",
      "This is the number:  37\n",
      "This is the number:  38\n",
      "This is the number:  39\n",
      "This is the number:  40\n",
      "This is the number:  41\n",
      "This is the number:  42\n",
      "This is the number:  43\n",
      "This is the number:  44\n",
      "This is the number:  45\n",
      "This is the number:  46\n",
      "This is the number:  47\n",
      "This is the number:  48\n",
      "This is the number:  49\n"
     ]
    }
   ],
   "source": []
  },
  {
   "cell_type": "code",
   "execution_count": null,
   "metadata": {},
   "outputs": [],
   "source": []
  },
  {
   "cell_type": "code",
   "execution_count": null,
   "metadata": {},
   "outputs": [],
   "source": []
  },
  {
   "cell_type": "code",
   "execution_count": null,
   "metadata": {},
   "outputs": [],
   "source": []
  },
  {
   "cell_type": "code",
   "execution_count": null,
   "metadata": {},
   "outputs": [],
   "source": [
    "print(len(items.item_id.unique()))\n",
    "print(len(items.item_category_id.unique()))\n",
    "print(len(sales_train.shop_id.unique()))\n"
   ]
  },
  {
   "cell_type": "code",
   "execution_count": null,
   "metadata": {},
   "outputs": [],
   "source": []
  },
  {
   "cell_type": "code",
   "execution_count": null,
   "metadata": {},
   "outputs": [],
   "source": []
  },
  {
   "cell_type": "code",
   "execution_count": null,
   "metadata": {},
   "outputs": [],
   "source": []
  },
  {
   "cell_type": "code",
   "execution_count": null,
   "metadata": {},
   "outputs": [],
   "source": []
  },
  {
   "cell_type": "code",
   "execution_count": null,
   "metadata": {},
   "outputs": [],
   "source": []
  },
  {
   "cell_type": "code",
   "execution_count": null,
   "metadata": {},
   "outputs": [],
   "source": []
  },
  {
   "cell_type": "code",
   "execution_count": null,
   "metadata": {},
   "outputs": [],
   "source": [
    "sales_train = sales_train.join(item_categories, on= 'item_id')"
   ]
  },
  {
   "cell_type": "markdown",
   "metadata": {},
   "source": [
    "### Graph date_block_num"
   ]
  },
  {
   "cell_type": "code",
   "execution_count": null,
   "metadata": {},
   "outputs": [],
   "source": [
    "sales_train.date_block_num.plot()"
   ]
  },
  {
   "cell_type": "code",
   "execution_count": null,
   "metadata": {
    "scrolled": true
   },
   "outputs": [],
   "source": []
  },
  {
   "cell_type": "code",
   "execution_count": null,
   "metadata": {
    "scrolled": false
   },
   "outputs": [],
   "source": [
    "for i in sales_train.columns:\n",
    "    sales_train.groupby(i).agg(date= (i, 'count')).plot(figsize= (14,8), title= i, legend= False);"
   ]
  },
  {
   "cell_type": "code",
   "execution_count": null,
   "metadata": {},
   "outputs": [],
   "source": [
    "sales_train.columns"
   ]
  },
  {
   "cell_type": "code",
   "execution_count": null,
   "metadata": {},
   "outputs": [],
   "source": [
    "sales_train['year'] = sales_train.date_block_num.apply(lambda x: ((x//12) + 2013))\n",
    "sales_train"
   ]
  },
  {
   "cell_type": "code",
   "execution_count": null,
   "metadata": {},
   "outputs": [],
   "source": [
    "sales_train['month'] = sales_train.date_block_num.apply(lambda x: (x % 12))\n",
    "sales_train"
   ]
  },
  {
   "cell_type": "code",
   "execution_count": null,
   "metadata": {},
   "outputs": [],
   "source": [
    "sales_train['year_dt'] = sales_train.date.dt.year\n",
    "sales_train['month_dt'] = sales_train.date.dt.month\n",
    "sales_train['day_dt'] = sales_train.date.dt.day"
   ]
  },
  {
   "cell_type": "code",
   "execution_count": null,
   "metadata": {},
   "outputs": [],
   "source": [
    "sales_train"
   ]
  },
  {
   "cell_type": "code",
   "execution_count": null,
   "metadata": {},
   "outputs": [],
   "source": []
  },
  {
   "cell_type": "code",
   "execution_count": null,
   "metadata": {},
   "outputs": [],
   "source": []
  },
  {
   "cell_type": "code",
   "execution_count": null,
   "metadata": {},
   "outputs": [],
   "source": []
  },
  {
   "cell_type": "code",
   "execution_count": null,
   "metadata": {},
   "outputs": [],
   "source": []
  },
  {
   "cell_type": "code",
   "execution_count": null,
   "metadata": {},
   "outputs": [],
   "source": []
  }
 ],
 "metadata": {
  "kernelspec": {
   "display_name": "kaggle_course_coursera_trans",
   "language": "python",
   "name": "kaggle_course_coursera_trans"
  },
  "language_info": {
   "codemirror_mode": {
    "name": "ipython",
    "version": 3
   },
   "file_extension": ".py",
   "mimetype": "text/x-python",
   "name": "python",
   "nbconvert_exporter": "python",
   "pygments_lexer": "ipython3",
   "version": "3.7.6"
  }
 },
 "nbformat": 4,
 "nbformat_minor": 4
}
